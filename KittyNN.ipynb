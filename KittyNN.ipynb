{
 "cells": [
  {
   "cell_type": "code",
   "execution_count": 1,
   "id": "da434f5a",
   "metadata": {},
   "outputs": [],
   "source": [
    "import numpy as np\n",
    "import pandas as pd\n",
    "import sys"
   ]
  },
  {
   "cell_type": "markdown",
   "id": "b102bcb9",
   "metadata": {},
   "source": [
    "### Some nn word for fun"
   ]
  },
  {
   "cell_type": "markdown",
   "id": "3c87d333",
   "metadata": {},
   "source": []
  },
  {
   "cell_type": "code",
   "execution_count": 2,
   "id": "4a87ae13",
   "metadata": {},
   "outputs": [],
   "source": [
    "class KittyNN(object):\n",
    "    \n",
    "    def __init__(self, learning_rate=0.15):\n",
    "        self.weight_1 = np.random.normal(0.0, 1, size=(2, 3))\n",
    "        self.weight_2 = np.random.normal(0.0, 1, size=(1, 2))\n",
    "        self.sigmoid_map = np.vectorize(self.sigmoid)\n",
    "        self.learning_rate = np.array([learning_rate])\n",
    "        \n",
    "        \n",
    "    def sigmoid(self, x):\n",
    "        return 1 / (1 + np.exp(-x))\n",
    "    \n",
    "    def prediction(self, inputs):\n",
    "        inputs_1 = np.dot(self.weight_1, inputs)\n",
    "        outputs_1 = self.sigmoid_map(inputs_1) \n",
    "        \n",
    "        inputs_2 = np.dot(self.weight_2, outputs_1)\n",
    "        outputs_2 = self.sigmoid_map(inputs_2)\n",
    "        return outputs_2\n",
    "    \n",
    "    \n",
    "    def train(self, inputs, answer):\n",
    "        inputs_1 = np.dot(self.weight_1, inputs)\n",
    "        outputs_1 = self.sigmoid_map(inputs_1) \n",
    "        \n",
    "        inputs_2 = np.dot(self.weight_2, outputs_1)\n",
    "        outputs_2 = self.sigmoid_map(inputs_2)\n",
    "        \n",
    "        predict = outputs_2[0]\n",
    "        \n",
    "        #Последние ребра\n",
    "        error_2 = np.array([predict - answer])\n",
    "        predict_der_2 = predict * (1 - predict)\n",
    "        weight_delta_2 = error_2 * predict_der_2\n",
    "        self.weight_2 = self.weight_2 - np.dot(weight_delta_2, outputs_1.reshape(1, len(outputs_1))) * self.learning_rate\n",
    "        \n",
    "        #Начальные ребра\n",
    "        error_1 = weight_delta_2 * self.weight_2\n",
    "        predict_der_1 = outputs_1 * (1 - outputs_1)\n",
    "        weight_delta_1 = error_1 * predict_der_1\n",
    "        self.weight_1 = self.weight_1 - np.dot(inputs.reshape(len(inputs), 1), weight_delta_1).T * self.learning_rate\n",
    "        \n",
    "def MSE(y, Y):\n",
    "    return np.mean((y - Y)**2)"
   ]
  },
  {
   "cell_type": "code",
   "execution_count": 3,
   "id": "f5386df0",
   "metadata": {
    "scrolled": false
   },
   "outputs": [
    {
     "data": {
      "text/plain": [
       "array([[0, 0, 0, 0],\n",
       "       [1, 1, 1, 1],\n",
       "       [1, 0, 0, 0],\n",
       "       [0, 1, 1, 1],\n",
       "       [1, 1, 0, 0],\n",
       "       [0, 0, 1, 0]], dtype=int64)"
      ]
     },
     "execution_count": 3,
     "metadata": {},
     "output_type": "execute_result"
    }
   ],
   "source": [
    "df=pd.read_csv('kitty.csv', sep=',')\n",
    "df.values"
   ]
  },
  {
   "cell_type": "code",
   "execution_count": 4,
   "id": "a7681340",
   "metadata": {},
   "outputs": [],
   "source": [
    "train = [\n",
    "      ([0, 0, 0], 0),\n",
    "      ([1, 1, 1], 1),\n",
    "      ([1, 0, 0], 0),\n",
    "      ([0, 1, 1], 1),\n",
    "      ([1, 1, 0], 0),\n",
    "      ([0, 0, 1], 1),\n",
    "      ([0, 0, 0], 0)\n",
    "]"
   ]
  },
  {
   "cell_type": "code",
   "execution_count": 5,
   "id": "40e44139",
   "metadata": {},
   "outputs": [],
   "source": [
    "a = 0.1\n",
    "\n",
    "model = KittyNN(learning_rate=a)"
   ]
  },
  {
   "cell_type": "markdown",
   "id": "ab41566e",
   "metadata": {},
   "source": [
    "##### Веса до тренировки модели"
   ]
  },
  {
   "cell_type": "code",
   "execution_count": 6,
   "id": "53075058",
   "metadata": {},
   "outputs": [
    {
     "data": {
      "text/plain": [
       "array([[-0.44536635,  2.13321851,  0.51570878],\n",
       "       [-0.43715645, -1.49492462,  1.12713958]])"
      ]
     },
     "execution_count": 6,
     "metadata": {},
     "output_type": "execute_result"
    }
   ],
   "source": [
    "model.weight_1"
   ]
  },
  {
   "cell_type": "code",
   "execution_count": 7,
   "id": "7cd614c6",
   "metadata": {},
   "outputs": [
    {
     "data": {
      "text/plain": [
       "array([[0.4987972, 0.1591809]])"
      ]
     },
     "execution_count": 7,
     "metadata": {},
     "output_type": "execute_result"
    }
   ],
   "source": [
    "model.weight_2"
   ]
  },
  {
   "cell_type": "code",
   "execution_count": 8,
   "id": "775dda08",
   "metadata": {},
   "outputs": [
    {
     "name": "stdout",
     "output_type": "stream",
     "text": [
      "Progress: 99.9, Training loss: 0.003"
     ]
    }
   ],
   "source": [
    "epoch = 5000\n",
    "\n",
    "for e in range(epoch):\n",
    "    inputs = []\n",
    "    answers = []\n",
    "    for input, answer in train:\n",
    "        model.train(np.array(input), answer)\n",
    "        inputs.append(input)\n",
    "        answers.append(answer)\n",
    "    \n",
    "    train_loss = MSE(model.prediction(np.array(input).T), np.array(answer))\n",
    "    sys.stdout.write(\"\\rProgress: {}, Training loss: {}\".format(str(100 * e/float(epoch))[:4], str(train_loss)[:5]))      "
   ]
  },
  {
   "cell_type": "markdown",
   "id": "bd3af7e1",
   "metadata": {},
   "source": [
    "##### Веса после тренировки модели"
   ]
  },
  {
   "cell_type": "code",
   "execution_count": 9,
   "id": "ccb6f2c4",
   "metadata": {},
   "outputs": [
    {
     "data": {
      "text/plain": [
       "array([[-1.72516417,  1.60255583,  3.13422266],\n",
       "       [ 1.62797107, -1.07304075, -4.01495981]])"
      ]
     },
     "execution_count": 9,
     "metadata": {},
     "output_type": "execute_result"
    }
   ],
   "source": [
    "model.weight_1"
   ]
  },
  {
   "cell_type": "code",
   "execution_count": 10,
   "id": "c1f1d429",
   "metadata": {},
   "outputs": [
    {
     "data": {
      "text/plain": [
       "array([[ 3.43596477, -8.90555931]])"
      ]
     },
     "execution_count": 10,
     "metadata": {},
     "output_type": "execute_result"
    }
   ],
   "source": [
    "model.weight_2"
   ]
  },
  {
   "cell_type": "code",
   "execution_count": 11,
   "id": "33149b63",
   "metadata": {},
   "outputs": [
    {
     "name": "stdout",
     "output_type": "stream",
     "text": [
      "For input: [0, 0, 0] the prediction is: [0.06095101], expected: 0\n",
      "For input: [1, 1, 1] the prediction is: [0.95272937], expected: 1\n",
      "For input: [1, 0, 0] the prediction is: [0.00098239], expected: 0\n",
      "For input: [0, 1, 1] the prediction is: [0.96615361], expected: 1\n",
      "For input: [1, 1, 0] the prediction is: [0.01721317], expected: 0\n",
      "For input: [0, 0, 1] the prediction is: [0.95830496], expected: 1\n",
      "For input: [0, 0, 0] the prediction is: [0.06095101], expected: 0\n"
     ]
    }
   ],
   "source": [
    "for input_val, answer in train:\n",
    "    print(\"For input: {} the prediction is: {}, expected: {}\".format(\n",
    "        input_val,\n",
    "        model.prediction(input_val),\n",
    "        answer\n",
    "        ))\n",
    "    #train_loss = model.MSE(np.array(answer), np.array(model.prediction(input_val)))\n",
    "    #print(train_loss)\n",
    "    \n"
   ]
  },
  {
   "cell_type": "markdown",
   "id": "0bbdf78d",
   "metadata": {},
   "source": [
    "### Шпаргалка"
   ]
  },
  {
   "cell_type": "code",
   "execution_count": 12,
   "id": "0a930728",
   "metadata": {},
   "outputs": [
    {
     "ename": "SyntaxError",
     "evalue": "invalid syntax (<ipython-input-12-79f4aa289bbe>, line 2)",
     "output_type": "error",
     "traceback": [
      "\u001b[1;36m  File \u001b[1;32m\"<ipython-input-12-79f4aa289bbe>\"\u001b[1;36m, line \u001b[1;32m2\u001b[0m\n\u001b[1;33m    weight_delta = error * sigmoid(x)dx\u001b[0m\n\u001b[1;37m                                     ^\u001b[0m\n\u001b[1;31mSyntaxError\u001b[0m\u001b[1;31m:\u001b[0m invalid syntax\n"
     ]
    }
   ],
   "source": [
    "error = actual - expected\n",
    "weight_delta = error * sigmoid(x)dx\n",
    "sigmoid(x)dx = sigmoid(x) * (1 - sigmoid(x))\n",
    "\n",
    "weight = weight - output * weight_delta * learning_rate"
   ]
  },
  {
   "cell_type": "code",
   "execution_count": 31,
   "id": "c4d715c2",
   "metadata": {},
   "outputs": [
    {
     "data": {
      "text/plain": [
       "array([0.64351446])"
      ]
     },
     "execution_count": 31,
     "metadata": {},
     "output_type": "execute_result"
    }
   ],
   "source": [
    "[\n",
    "      ([0, 0, 0], 0),\n",
    "      ([1, 1, 1], 1),\n",
    "      ([1, 0, 0], 0),\n",
    "      ([0, 1, 1], 1),\n",
    "      ([1, 1, 0], 0),\n",
    "      ([0, 0, 1], 1),\n",
    "      ([0, 0, 0], 0)\n",
    "]\n",
    "\n",
    "model.prediction([])"
   ]
  },
  {
   "cell_type": "code",
   "execution_count": null,
   "id": "3debab40",
   "metadata": {},
   "outputs": [],
   "source": []
  }
 ],
 "metadata": {
  "kernelspec": {
   "display_name": "Python 3",
   "language": "python",
   "name": "python3"
  },
  "language_info": {
   "codemirror_mode": {
    "name": "ipython",
    "version": 3
   },
   "file_extension": ".py",
   "mimetype": "text/x-python",
   "name": "python",
   "nbconvert_exporter": "python",
   "pygments_lexer": "ipython3",
   "version": "3.8.8"
  }
 },
 "nbformat": 4,
 "nbformat_minor": 5
}
